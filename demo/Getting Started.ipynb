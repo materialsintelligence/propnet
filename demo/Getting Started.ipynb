{
 "cells": [
  {
   "cell_type": "markdown",
   "metadata": {},
   "source": [
    "# Tutorial on using Propnet"
   ]
  },
  {
   "cell_type": "markdown",
   "metadata": {},
   "source": [
    "The following is a tutorial designed to give a base overview of the classes and constructs used in the Propnet project. For each class an example of its construction and base usage is provided."
   ]
  },
  {
   "cell_type": "markdown",
   "metadata": {},
   "source": [
    "# Defining a Property Network: Propnet"
   ]
  },
  {
   "cell_type": "markdown",
   "metadata": {},
   "source": [
    "A Graph object tells us about all the property types and models currently available for use.\n",
    "\n",
    "The mappings contained in this object define an interconnected network of materials properties. In this form, the Graph object can be used to enumerate and analyze links between differnet materials properties."
   ]
  },
  {
   "cell_type": "code",
   "execution_count": 1,
   "metadata": {},
   "outputs": [
    {
     "name": "stdout",
     "output_type": "stream",
     "text": [
      "Propnet is not intended for public use at this time. Functionality might change.\n",
      "\n"
     ]
    }
   ],
   "source": [
    "from propnet.core.graph import Graph"
   ]
  },
  {
   "cell_type": "code",
   "execution_count": 2,
   "metadata": {},
   "outputs": [],
   "source": [
    "g = Graph()"
   ]
  },
  {
   "cell_type": "markdown",
   "metadata": {},
   "source": [
    "You can print Propnet to see the property types and models it supports."
   ]
  },
  {
   "cell_type": "code",
   "execution_count": 3,
   "metadata": {},
   "outputs": [
    {
     "name": "stdout",
     "output_type": "stream",
     "text": [
      "Propnet Printout\n",
      "\n",
      "Properties\n",
      "\tformula\n",
      "\tdimensionality\n",
      "\tstructure_oxi\n",
      "\toxide_type\n",
      "\tis_metallic\n",
      "\tmagnetic_order\n",
      "\tlattice\n",
      "\texternal_identifier_mp\n",
      "\tcomputed_entry\n",
      "\texternal_identifier_aflow\n",
      "\tstructure\n",
      "\tpotentially_ferroelectric\n",
      "\tprototype\n",
      "\tcomposition\n",
      "\tunit_cell_heat_capacity_constant_volume\n",
      "\tatomic_density\n",
      "\telastic_tensor_voigt\n",
      "\tgruneisen_parameter\n",
      "\tinterplanar_spacing\n",
      "\tsound_velocity_longitudinal\n",
      "\tgoldschmidt_tolerance_factor\n",
      "\tphonon_mean_free_path\n",
      "\tthermal_conductivity\n",
      "\trefractive_index\n",
      "\tpiezoelectric_modulus_longitudinal_max_direction\n",
      "\telectron_concentration\n",
      "\tionic_radius_b\n",
      "\tabsorption_coefficient\n",
      "\tp_wave_modulus\n",
      "\tcost_per_kg\n",
      "\textinction_coefficient\n",
      "\ttotal_magnetization_per_volume\n",
      "\telectronic_thermal_conductivity\n",
      "\tpilling_bedworth_ratio\n",
      "\ttransmittance\n",
      "\tinteratomic_spacing\n",
      "\tband_gap_pbe\n",
      "\telectrical_resistivity\n",
      "\trelative_permittivity\n",
      "\tsnyder_acoustic_sound_velocity\n",
      "\tcost_per_mol\n",
      "\tsound_velocity_mean\n",
      "\tvolume_unit_cell\n",
      "\tyoungs_modulus\n",
      "\tdielectric_figure_of_merit_energy\n",
      "\tmass_per_atom\n",
      "\tpoisson_ratio\n",
      "\tabsorbance\n",
      "\tspecific_heat_capacity_constant_volume\n",
      "\tlame_first_parameter\n",
      "\tcompliance_tensor_voigt\n",
      "\thhi_reserve\n",
      "\tsnyder_optical_sound_velocity\n",
      "\treflectance\n",
      "\thole_mobility\n",
      "\tformation_energy_per_atom\n",
      "\trelative_permittivity_electronic\n",
      "\tstrengthening_coefficient\n",
      "\telectron_mean_free_time\n",
      "\ttotal_magnetization\n",
      "\tband_gap\n",
      "\tpeierls_stress\n",
      "\telectromechanical_coupling\n",
      "\tshear_modulus\n",
      "\tsound_velocity_transverse\n",
      "\telectron_effective_mass\n",
      "\tbulk_modulus\n",
      "\tyield_stress\n",
      "\tvickers_hardness\n",
      "\tmolar_heat_capacity_constant_volume\n",
      "\tband_gap_gw\n",
      "\tdielectric_tensor\n",
      "\tspecific_heat_capacity_constant_pressure\n",
      "\tmolar_mass\n",
      "\tthermal_expansion_coefficient\n",
      "\thhi_production\n",
      "\tlattice_unit_cell\n",
      "\tionic_radius_a\n",
      "\tisothermal_compressibility\n",
      "\tpugh_ratio\n",
      "\trelative_permeability\n",
      "\tvolume_per_atom\n",
      "\tpiezoelectric_tensor_converse\n",
      "\tisentropic_compressibility\n",
      "\tdensity\n",
      "\telectron_mobility\n",
      "\tloss_function\n",
      "\thall_coefficient\n",
      "\tuniversal_anisotropy\n",
      "\telectrical_conductivity\n",
      "\tenergy_per_atom\n",
      "\tunit_cell_heat_capacity_constant_pressure\n",
      "\thole_effective_mass\n",
      "\tionic_radius\n",
      "\tmolar_heat_capacity_constant_pressure\n",
      "\tdislocation_movement_stress\n",
      "\telastic_anisotropy\n",
      "\tsnyder_total_sound_velocity\n",
      "\tenergy_above_hull\n",
      "\thole_mean_free_time\n",
      "\tpiezoelectric_modulus_longitudinal_max\n",
      "\tdebye_temperature\n",
      "\tpiezoelectric_tensor\n",
      "\tmelting_point\n",
      "\trelative_permittivity_im\n",
      "\thole_concentration\n",
      "\tnsites\n",
      "\tdielectric_figure_of_merit_current_leakage\n",
      "\twavelength\n",
      "\tresolved_shear_stress\n",
      "\ttemperature\n",
      "\tgrain_diameter\n",
      "\tschmid_factor\n",
      "\tapplied_stress\n",
      "\tthickness\n",
      "\n",
      "Models\n",
      "\n"
     ]
    }
   ],
   "source": [
    "print(g)"
   ]
  },
  {
   "cell_type": "markdown",
   "metadata": {},
   "source": [
    "# Defining a Material Property"
   ]
  },
  {
   "cell_type": "markdown",
   "metadata": {},
   "source": [
    "A Symbol object is used to represent types of properties (such as Young's Modulus) or conditions (such as Temperature).\n",
    "- All Symbol objects are accessible in a global Registry entry.\n",
    "- Various metadata for each SymbolType can be accessed as shown below."
   ]
  },
  {
   "cell_type": "code",
   "execution_count": 4,
   "metadata": {},
   "outputs": [
    {
     "name": "stdout",
     "output_type": "stream",
     "text": [
      "Symbol: youngs_modulus\n"
     ]
    }
   ],
   "source": [
    "# Import built-in symbols\n",
    "import propnet.symbols\n",
    "# Access them through symbol registry\n",
    "from propnet.core.registry import Registry\n",
    "symbol_object = Registry(\"symbols\")['youngs_modulus']\n",
    "print(symbol_object)"
   ]
  },
  {
   "cell_type": "markdown",
   "metadata": {},
   "source": [
    "A Quantity object is used to represent values of properties (such as Young's Modulus = 200GPa) or conditions (such as temperature = 300K).\n",
    "\n",
    "- All Quantity objects have a Symbol giving the type of property represented by the value.\n",
    "- All Quantity objects must be created at runtime by specifying a value during instantiation.\n",
    "- All Quantity objects have a list of strings called \"tags\" used to further label the property.\n",
    "\n",
    "Currently, two Quantity object types exist to support different kinds of data:\n",
    "\n",
    "- NumQuantity supports numerical quantities, both scalar, vector, and matrix.\n",
    "- ObjQuantity supports any JSON-serializable Python object (using MSONable). Useful for structure or formula.\n",
    "\n",
    "Both types can be created using a QuantityFactory."
   ]
  },
  {
   "cell_type": "code",
   "execution_count": 5,
   "metadata": {},
   "outputs": [
    {
     "name": "stdout",
     "output_type": "stream",
     "text": [
      "<youngs_modulus, 200 gigapascal, ['mild steel']>\n",
      "<class 'propnet.core.quantity.NumQuantity'>\n",
      "<formula, NaCl, ['table salt']>\n",
      "<class 'propnet.core.quantity.ObjQuantity'>\n"
     ]
    }
   ],
   "source": [
    "from propnet.core.quantity import QuantityFactory\n",
    "steel_youngs_modulus = QuantityFactory.create_quantity('youngs_modulus', 200, 'GPa', tags=['mild steel'])\n",
    "print(steel_youngs_modulus)\n",
    "print(type(steel_youngs_modulus))\n",
    "\n",
    "table_salt_formula = QuantityFactory.create_quantity('formula', 'NaCl', tags=['table salt'])\n",
    "print(table_salt_formula)\n",
    "print(type(table_salt_formula))"
   ]
  },
  {
   "cell_type": "markdown",
   "metadata": {},
   "source": [
    "# Defining a Material"
   ]
  },
  {
   "cell_type": "markdown",
   "metadata": {},
   "source": [
    "A Material object is used to represent a collection of information known about a given material.\n",
    "\n",
    "A Material object can be created empty and then populated with property data, or created from a list of properties."
   ]
  },
  {
   "cell_type": "code",
   "execution_count": 6,
   "metadata": {},
   "outputs": [
    {
     "name": "stdout",
     "output_type": "stream",
     "text": [
      "Material: 0x127005898\n",
      "\n",
      "\tyoungs_modulus\n",
      "\t\t<youngs_modulus, 200 gigapascal, []>\n",
      "\n",
      "Material: 0x127005a58\n",
      "\n",
      "\tformula\n",
      "\t\t<formula, NaCl, []>\n",
      "\n"
     ]
    }
   ],
   "source": [
    "from propnet.core.materials import Material\n",
    "from propnet.core.quantity import NumQuantity, ObjQuantity\n",
    "mild_steel = Material()\n",
    "youngs_modulus = NumQuantity('youngs_modulus', 200, 'gigapascal')\n",
    "mild_steel.add_quantity(youngs_modulus)\n",
    "print(mild_steel)\n",
    "\n",
    "table_salt_formula = ObjQuantity('formula', 'NaCl')\n",
    "table_salt = Material([table_salt_formula])\n",
    "print(table_salt)"
   ]
  },
  {
   "cell_type": "markdown",
   "metadata": {},
   "source": [
    "# Combining Models, Materials, and Symbols"
   ]
  },
  {
   "cell_type": "markdown",
   "metadata": {},
   "source": [
    "As illustrated, a Graph object contains information for connecting many different models and symbol types. This forms an abstract web of interconnected variables without any values specified.\n",
    "\n",
    "On the other hand, a Material object represents a grouping of values for different variables. These are represented as a collection of Quantity objects identified with the material.\n",
    "\n",
    "At runtime, a single Graph object can be used to \"evaluate\" a Material object. This procedure allows values to be plugged in to variables. Assuming the required inputs for a model all have values, the Graph object can then dynamically predict the values for the output variables of the model.\n",
    "\n",
    "In this example, we start with a refractive index and a permittivity. As a result many other properties are derived and printed below."
   ]
  },
  {
   "cell_type": "code",
   "execution_count": 7,
   "metadata": {},
   "outputs": [
    {
     "name": "stdout",
     "output_type": "stream",
     "text": [
      "WARNING: No units supplied, assuming default units from symbol.\n",
      "WARNING: No units supplied, assuming default units from symbol.\n",
      "Material: 0x126af8cc0\n",
      "\n",
      "\trefractive_index\n",
      "\t\t<refractive_index, 1.458 dimensionless, []>\n",
      "\n",
      "\trelative_permittivity\n",
      "\t\t<relative_permittivity, 3.9 dimensionless, []>\n",
      "\n",
      "\tband_gap\n",
      "\t\t<band_gap, 21.02294283374089 electron_volt, []>\n",
      "\t\t<band_gap, 34.44429680416945 electron_volt, []>\n",
      "\t\t<band_gap, 8.44705399783503 electron_volt, []>\n",
      "\n",
      "\trelative_permeability\n",
      "\t\t...\n",
      "\n",
      "\tdielectric_figure_of_merit_current_leakage\n",
      "\t\t...\n",
      "\t\t...\n",
      "\t\t...\n",
      "\n",
      "\tband_gap_gw\n",
      "\t\t<band_gap_gw, 21.05104492358802 electron_volt, []>\n",
      "\t\t<band_gap_gw, 34.49929539495929 electron_volt, []>\n",
      "\t\t<band_gap_gw, 8.449953905646305 electron_volt, []>\n",
      "\n",
      "\tband_gap_pbe\n",
      "\t\t...\n",
      "\t\t...\n",
      "\t\t...\n",
      "\t\t...\n",
      "\t\t...\n",
      "\t\t...\n",
      "\n",
      "\tdielectric_figure_of_merit_energy\n",
      "\t\t...\n",
      "\t\t...\n",
      "\t\t...\n",
      "\n",
      "\tis_metallic\n",
      "\t\t<is_metallic, False, []>\n",
      "\t\t<is_metallic, False, []>\n",
      "\t\t<is_metallic, False, []>\n",
      "\n"
     ]
    }
   ],
   "source": [
    "from propnet.core.materials import Material\n",
    "from propnet.core.graph import Graph\n",
    "from propnet.core.quantity import QuantityFactory\n",
    "# Import built-in propnet models\n",
    "import propnet.models\n",
    "\n",
    "g = Graph()\n",
    "\n",
    "silica = Material()\n",
    "refractive_index = QuantityFactory.create_quantity('refractive_index', 1.458)\n",
    "relative_permittivity = QuantityFactory.create_quantity('relative_permittivity', 3.9)\n",
    "\n",
    "silica.add_quantity(refractive_index)\n",
    "silica.add_quantity(relative_permittivity)\n",
    "\n",
    "silica = g.evaluate(silica)\n",
    "print(silica)"
   ]
  },
  {
   "cell_type": "markdown",
   "metadata": {},
   "source": [
    "# Working with Models"
   ]
  },
  {
   "cell_type": "markdown",
   "metadata": {},
   "source": [
    "A Model object is used to represent a relationship between different materials property variables. This object can be directly manipulated and stores relavent metadata available as direct attributes.\n",
    "\n",
    "- All Models are imported as classes at runtime.\n",
    "- A Model class must be instantiated to be used at runtime."
   ]
  },
  {
   "cell_type": "code",
   "execution_count": 8,
   "metadata": {},
   "outputs": [
    {
     "name": "stdout",
     "output_type": "stream",
     "text": [
      "The refractive index gives the factor by which the speed of light is reduced in\n",
      "a medium.  Likewise, modeling the induced magnetic and electric dipoles as linear\n",
      "within a material, a relative spatial electrical permittivity and relative spatial\n",
      "magnetic permeability arise from consideration of the total electrical and magnetic\n",
      "fields.\n",
      "\n",
      "From the Maxwell Relations, the index of refraction is equal to the geometric mean\n",
      "of the relative permittivity and the relative permeability.\n",
      "\n",
      "refractive_index_from_rel_perm\n",
      "\n",
      "['n = sqrt(Ur*Er)']\n"
     ]
    }
   ],
   "source": [
    "import propnet.models\n",
    "from propnet.core.graph import Graph\n",
    "g = Graph()\n",
    "# This information can be obtained from Registry(\"models\") as well\n",
    "model = g.get_models()['refractive_index_from_rel_perm']\n",
    "print(model.description)\n",
    "print(model.name)\n",
    "print()\n",
    "print(model.equations)"
   ]
  },
  {
   "cell_type": "markdown",
   "metadata": {},
   "source": [
    "## Model Class Structure - Basic Overview"
   ]
  },
  {
   "cell_type": "markdown",
   "metadata": {},
   "source": [
    "The Model class is a generally-defined interface, and subclasses may alter many aspects of its underlying functionality.\n",
    "\n",
    "\n",
    "Most Model objects will contain equations, symbols, and connections attributes. These define the core functionality of the model:"
   ]
  },
  {
   "cell_type": "markdown",
   "metadata": {},
   "source": [
    "The equations attribute will contain a list of sympy-parsable expressions. These expressions imply trivial equations such that the expression is equal to zero. \n",
    "(ie. x - 4 for corresponding equation x = 4)"
   ]
  },
  {
   "cell_type": "code",
   "execution_count": 9,
   "metadata": {},
   "outputs": [
    {
     "name": "stdout",
     "output_type": "stream",
     "text": [
      "['n = sqrt(Ur*Er)']\n"
     ]
    }
   ],
   "source": [
    "print(model.equations)"
   ]
  },
  {
   "cell_type": "markdown",
   "metadata": {},
   "source": [
    "The symbol_mapping attribute maps the symbols (ie. n) used in the equations to Symbol objects (ie. refractive index) used in the Property Network."
   ]
  },
  {
   "cell_type": "code",
   "execution_count": 10,
   "metadata": {},
   "outputs": [
    {
     "name": "stdout",
     "output_type": "stream",
     "text": [
      "{'Ur': 'relative_permittivity', 'n': 'refractive_index', 'Er': 'relative_permeability'}\n"
     ]
    }
   ],
   "source": [
    "print(model.variable_symbol_map)"
   ]
  },
  {
   "cell_type": "markdown",
   "metadata": {},
   "source": [
    "The connections attribute shows what outputs can be generated from a set of inputs, following a standard format. It also contains metadata for evaluating the models using equations."
   ]
  },
  {
   "cell_type": "code",
   "execution_count": 11,
   "metadata": {},
   "outputs": [
    {
     "name": "stdout",
     "output_type": "stream",
     "text": [
      "[{'inputs': ['n', 'Er'], 'outputs': ['Ur'], '_sympy_exprs': {'Ur': [n**2/Er]}, '_lambdas': {'Ur': <function _lambdifygenerated at 0x1276bdae8>}}, {'inputs': ['Ur', 'Er'], 'outputs': ['n'], '_sympy_exprs': {'n': [sqrt(Er*Ur)]}, '_lambdas': {'n': <function _lambdifygenerated at 0x1276bd268>}}, {'inputs': ['Ur', 'n'], 'outputs': ['Er'], '_sympy_exprs': {'Er': [n**2/Ur]}, '_lambdas': {'Er': <function _lambdifygenerated at 0x1276bd7b8>}}]\n"
     ]
    }
   ],
   "source": [
    "print(model.connections)"
   ]
  },
  {
   "cell_type": "markdown",
   "metadata": {},
   "source": [
    "A Model can be evaluated to generate outputs if given a complete set of inputs.\n",
    "\n",
    "Given the relative permeability and permittivity, the Refractive Index From Relative Permeability model can correctly calculate the index of refraction.\n",
    "\n",
    "This is given by 'n' in the dictionary below."
   ]
  },
  {
   "cell_type": "code",
   "execution_count": 12,
   "metadata": {
    "scrolled": false
   },
   "outputs": [
    {
     "data": {
      "text/plain": [
       "{'n': 1.4512063946937388}"
      ]
     },
     "execution_count": 12,
     "metadata": {},
     "output_type": "execute_result"
    }
   ],
   "source": [
    "model.plug_in({'Ur': 0.54, 'Er': 3.9})"
   ]
  },
  {
   "cell_type": "markdown",
   "metadata": {},
   "source": [
    "# Loading Materials Data"
   ]
  },
  {
   "cell_type": "markdown",
   "metadata": {},
   "source": [
    "Material properties can be loaded in from the Materials Project so they don't need to be defined and added manually.\n",
    "\n",
    "Accessing Materials Project data requires an API key. You must input your own API key below to run the sample. You can locate your api key by logging into materialsproject.org and visiting the dashboard."
   ]
  },
  {
   "cell_type": "code",
   "execution_count": 13,
   "metadata": {
    "scrolled": true
   },
   "outputs": [
    {
     "name": "stdout",
     "output_type": "stream",
     "text": [
      "{'material_id': 'mp-546794', 'band_gap.search_gap.band_gap': 5.703399999999999, 'computed_entry': ComputedEntry mp-546794 - Si16 O32\n",
      "Energy = -379.9357\n",
      "Correction = -22.4733\n",
      "Parameters:\n",
      "run_type = GGA\n",
      "is_hubbard = False\n",
      "pseudo_potential = {'functional': 'PBE', 'labels': ['Si', 'O'], 'pot_type': 'paw'}\n",
      "hubbards = {}\n",
      "potcar_symbols = ['PBE Si', 'PBE O']\n",
      "oxide_type = oxide\n",
      "Data:\n",
      "oxide_type = oxide, 'diel.n': 1.4782042033043565, 'diel.poly_total': 3.8824606666666672, 'diel.e_total': [[3.827947000000001, 0.0, 0.0], [0.0, 3.827947000000001, 1.9736472213591742e-17], [0.0, 1.9736472213591742e-17, 3.9914880000000004]], 'diel.poly_electronic': 2.1850876666666674, 'pretty_formula': 'SiO2', 'e_above_hull': 0, 'elasticity.elastic_tensor_original': [[91.20978053601698, -37.72413000560153, 19.319911320055816, 0.0, 0.0, 0.0], [-37.92987903108265, 91.35007557673609, 19.271159227260735, 0.0, 0.0, 0.0], [15.125369111160174, 15.125369111160174, 85.61256491670275, 0.0, 0.0, 0.0], [0.1477369604481241, 0.5879833920510485, 0.23964331576563985, 31.32864428426897, 0.0, 0.0], [-0.021019584833396002, 0.02193269142042326, 0.0016473665229868304, 0.0, 32.04963661138602, 0.0], [5.462165719891639e-05, -6.706998837417801e-05, 1.1783331290846919e-06, 0.0, 0.0, 29.98144005985382]], 'elasticity.elastic_anisotropy': 0.86, 'elasticity.universal_anisotropy': 0.86, 'formation_energy_per_atom': -3.2847129075, 'magnetic_type': 'NM', 'oxide_type': 'oxide', 'piezo.piezoelectric_tensor': [[0.0, 0.0, 0.0, 0.0, 0.0, 0.0], [0.0, 0.0, 0.0, 0.0, 0.0, 0.0], [0.0, 0.0, 0.0, 0.0, 0.0, 0.0]], 'piezo.v_max': [1.0, 0.0, 0.0], 'piezo.eij_max': 0.0, 'structure': Structure Summary\n",
      "Lattice\n",
      "    abc : 10.11250662085176 10.112693577412063 10.271724993769498\n",
      " angles : 119.4896927912101 119.48859740170064 89.99990994711087\n",
      " volume : 754.094746816133\n",
      "      A : 8.77880197 6.63e-06 -5.01950457\n",
      "      B : -2.87009282 8.29652941 -5.01963528\n",
      "      C : 0.04850361 0.06794197 10.27138577\n",
      "PeriodicSite: Si (2.9786, 4.1822, 0.1161) [0.5000, 0.5000, 0.5000]\n",
      "PeriodicSite: Si (2.9543, 4.1483, -5.0196) [0.5000, 0.5000, -0.0000]\n",
      "PeriodicSite: Si (1.5435, 8.3305, -2.3937) [0.5000, 1.0000, 0.5000]\n",
      "PeriodicSite: Si (1.5193, 8.2965, -7.5294) [0.5000, 1.0000, -0.0000]\n",
      "PeriodicSite: Si (7.3680, 4.1822, -2.3937) [1.0000, 0.5000, 0.5000]\n",
      "PeriodicSite: Si (7.3437, 4.1483, -7.5293) [1.0000, 0.5000, -0.0000]\n",
      "PeriodicSite: Si (5.9329, 8.3305, -4.9035) [1.0000, 1.0000, 0.5000]\n",
      "PeriodicSite: Si (5.9087, 8.2965, -10.0392) [1.0000, 1.0000, -0.0000]\n",
      "PeriodicSite: Si (0.0332, 3.1282, 0.0581) [0.1250, 0.3750, 0.2500]\n",
      "PeriodicSite: Si (0.0575, 3.1621, 5.1938) [0.1250, 0.3750, 0.7500]\n",
      "PeriodicSite: Si (-1.4018, 7.2764, -2.4517) [0.1250, 0.8750, 0.2500]\n",
      "PeriodicSite: Si (-1.3776, 7.3104, 2.6840) [0.1250, 0.8750, 0.7500]\n",
      "PeriodicSite: Si (4.4226, 3.1282, -2.4517) [0.6250, 0.3750, 0.2500]\n",
      "PeriodicSite: Si (4.4469, 3.1621, 2.6840) [0.6250, 0.3750, 0.7500]\n",
      "PeriodicSite: Si (2.9876, 7.2764, -4.9615) [0.6250, 0.8750, 0.2500]\n",
      "PeriodicSite: Si (3.0118, 7.3104, 0.1742) [0.6250, 0.8750, 0.7500]\n",
      "PeriodicSite: O (-1.0871, 3.6382, -1.0051) [0.0185, 0.4375, 0.1250]\n",
      "PeriodicSite: O (-1.0628, 3.6722, 4.1306) [0.0185, 0.4375, 0.6250]\n",
      "PeriodicSite: O (-2.5221, 7.7865, -3.5149) [0.0185, 0.9375, 0.1250]\n",
      "PeriodicSite: O (-2.4979, 7.8205, 1.6208) [0.0185, 0.9375, 0.6250]\n",
      "PeriodicSite: O (3.3023, 3.6382, -3.5149) [0.5185, 0.4375, 0.1250]\n",
      "PeriodicSite: O (3.3266, 3.6722, 1.6208) [0.5185, 0.4375, 0.6250]\n",
      "PeriodicSite: O (1.8673, 7.7865, -6.0247) [0.5185, 0.9375, 0.1250]\n",
      "PeriodicSite: O (1.8915, 7.8205, -0.8890) [0.5185, 0.9375, 0.6250]\n",
      "PeriodicSite: O (-0.5626, 3.2903, 1.5627) [0.0625, 0.3935, 0.3750]\n",
      "PeriodicSite: O (-0.5383, 3.3243, 6.6984) [0.0625, 0.3935, 0.8750]\n",
      "PeriodicSite: O (-1.9976, 7.4385, -0.9471) [0.0625, 0.8935, 0.3750]\n",
      "PeriodicSite: O (-1.9734, 7.4725, 4.1886) [0.0625, 0.8935, 0.8750]\n",
      "PeriodicSite: O (3.8268, 3.2903, -0.9470) [0.5625, 0.3935, 0.3750]\n",
      "PeriodicSite: O (3.8511, 3.3243, 4.1887) [0.5625, 0.3935, 0.8750]\n",
      "PeriodicSite: O (2.3918, 7.4386, -3.4568) [0.5625, 0.8935, 0.3750]\n",
      "PeriodicSite: O (2.4160, 7.4725, 1.6789) [0.5625, 0.8935, 0.8750]\n",
      "PeriodicSite: O (0.4027, 1.5641, -0.1918) [0.1065, 0.1875, 0.1250]\n",
      "PeriodicSite: O (0.4270, 1.5981, 4.9439) [0.1065, 0.1875, 0.6250]\n",
      "PeriodicSite: O (-1.0323, 5.7124, -2.7016) [0.1065, 0.6875, 0.1250]\n",
      "PeriodicSite: O (-1.0081, 5.7463, 2.4341) [0.1065, 0.6875, 0.6250]\n",
      "PeriodicSite: O (4.7921, 1.5641, -2.7015) [0.6065, 0.1875, 0.1250]\n",
      "PeriodicSite: O (4.8164, 1.5981, 2.4342) [0.6065, 0.1875, 0.6250]\n",
      "PeriodicSite: O (3.3571, 5.7124, -5.2113) [0.6065, 0.6875, 0.1250]\n",
      "PeriodicSite: O (3.3813, 5.7463, -0.0756) [0.6065, 0.6875, 0.6250]\n",
      "PeriodicSite: O (1.3797, 4.0202, -0.1337) [0.3125, 0.4815, 0.3750]\n",
      "PeriodicSite: O (1.4039, 4.0541, 5.0020) [0.3125, 0.4815, 0.8750]\n",
      "PeriodicSite: O (-0.0554, 8.1684, -2.6435) [0.3125, 0.9815, 0.3750]\n",
      "PeriodicSite: O (-0.0311, 8.2024, 2.4922) [0.3125, 0.9815, 0.8750]\n",
      "PeriodicSite: O (5.7691, 4.0202, -2.6435) [0.8125, 0.4815, 0.3750]\n",
      "PeriodicSite: O (5.7933, 4.0541, 2.4922) [0.8125, 0.4815, 0.8750]\n",
      "PeriodicSite: O (4.3340, 8.1684, -5.1533) [0.8125, 0.9815, 0.3750]\n",
      "PeriodicSite: O (4.3583, 8.2024, -0.0176) [0.8125, 0.9815, 0.8750], 'magnetism.total_magnetization': 0.0001416}\n"
     ]
    }
   ],
   "source": [
    "from propnet.ext.matproj import MPRester\n",
    "# If you have a MP API key, you can enter it below.\n",
    "my_api_key = None\n",
    "mpr = MPRester(my_api_key)\n",
    "silica = mpr.get_quantities_for_mpid('mp-546794')\n",
    "print(silica)"
   ]
  },
  {
   "cell_type": "markdown",
   "metadata": {},
   "source": [
    "# Working with Units"
   ]
  },
  {
   "cell_type": "markdown",
   "metadata": {},
   "source": [
    "## Symbol Objects\n",
    "\n",
    "It is best practice to specify units when defining a Quantity object or plugging values into Models. However, in the case that no units are supplied, default units are inferred based on those provided in the corresponding Symbol object.\n",
    "\n",
    "For instance, youngs_modulus is a Symbol with the default units of gigapascal. \n",
    "In the example above:\n",
    "\n",
    "           youngs_modulus = Symbol('youngs_modulus', 200, [])\n",
    "           \n",
    "youngs_modulus automatically has the value 200 gigapascals despite no units being provided.\n",
    "\n",
    "It is possible to provide your own units by working with the <b>unit registry</b> (ureg).<br></br>\n",
    "The examples below demonstrate this capability using the method: \n",
    "            \n",
    "            ureg.Quantity(value, unit)\n",
    "            \n",
    "propnet will automatically convert the units you supply into canonical units behind the scenes for use in models that use the property."
   ]
  },
  {
   "cell_type": "code",
   "execution_count": 14,
   "metadata": {},
   "outputs": [
    {
     "name": "stdout",
     "output_type": "stream",
     "text": [
      "WARNING: No units supplied, assuming default units from symbol.\n",
      "Material: 0x126d60320\n",
      "\n",
      "\tyield_stress\n",
      "\t\t<yield_stress, 0.3702484666431411 gigapascal, []>\n",
      "\n"
     ]
    }
   ],
   "source": [
    "from propnet import ureg\n",
    "from propnet.core.materials import Material\n",
    "from propnet.core.quantity import QuantityFactory\n",
    "\n",
    "mild_steel = Material()\n",
    "yield_strength = QuantityFactory.create_quantity('yield_stress', ureg.Quantity(53700, 'psi'), [])\n",
    "mild_steel.add_quantity(yield_strength)\n",
    "print(mild_steel)"
   ]
  },
  {
   "cell_type": "markdown",
   "metadata": {},
   "source": [
    "## Models\n",
    "Models can be evaluated using two methods: `plug_in` or `evaluate`.\n",
    "\n",
    "The difference: `evaluate` is symbols in, symbols out; `plug_in` is variables in, variables out.\n",
    "\n",
    "`evaluate` requires a dictionary keyed by symbol name (e.g. \"youngs_modulus\") and values which are propnet Quantity objects. Units are converted to canonical units on the fly.\n",
    "`plug_in` requires a dictionary keyed by variable name (e.g. \"Y\") and values which are Python floats. No unit conversions are done.\n",
    "\n",
    "In the example below we use propnet to calculate the Peierls-Nabarro Stress for a disloaction on the (111) plane in Aluminum (FCC) using custom units of psi for shear modulus."
   ]
  },
  {
   "cell_type": "code",
   "execution_count": 15,
   "metadata": {
    "scrolled": true
   },
   "outputs": [
    {
     "name": "stdout",
     "output_type": "stream",
     "text": [
      "WARNING: No units supplied, assuming default units from symbol.\n",
      "WARNING: No units supplied, assuming default units from symbol.\n",
      "WARNING: No units supplied, assuming default units from symbol.\n",
      "{'peierls_stress': <peierls_stress, 0.012711228013154446 gigapascal, []>, 'successful': True}\n",
      "{'T_pn': 0.01271125002140798}\n"
     ]
    }
   ],
   "source": [
    "from propnet import ureg\n",
    "import propnet.models\n",
    "from propnet.core.registry import Registry\n",
    "from propnet.core.quantity import QuantityFactory\n",
    "\n",
    "model = Registry(\"models\")['peierls_stress']\n",
    "\n",
    "result = model.evaluate({\n",
    "    'shear_modulus': QuantityFactory.create_quantity(\"shear_modulus\", 3.9e6, 'psi'),\n",
    "    'interplanar_spacing': QuantityFactory.create_quantity(\"interplanar_spacing\", 4.046 / 3**(1/2)),\n",
    "    'interatomic_spacing': QuantityFactory.create_quantity(\"interatomic_spacing\", 4.046 / 2**(1/2)),\n",
    "    'poisson_ratio': QuantityFactory.create_quantity(\"poisson_ratio\", 0.33)\n",
    "})\n",
    "print(result)\n",
    "\n",
    "# Must use gigapascal, because model assumes gigapascal. See section below for conversions\n",
    "G = 26.8896\n",
    "a = 4.046 / 3**(1/2)  # Angstroms automatically assumed by the model.\n",
    "b = 4.046 / 2**(1/2)  # Angstroms automatically assumed by the model.\n",
    "nu = 0.33\n",
    "\n",
    "tau = model.plug_in({'G': G, 'a': a, 'b': b, 'nu': nu})\n",
    "print(tau)"
   ]
  },
  {
   "cell_type": "markdown",
   "metadata": {},
   "source": [
    "## Converting Units\n",
    "Given you have an output with units, it is straightforward to convert between units using Pint (the backend package used by propnet for units).\n",
    "\n",
    "The `to` operation can be performed on propnet NumQuantity objects or pint ureg.Quantity objects."
   ]
  },
  {
   "cell_type": "code",
   "execution_count": 16,
   "metadata": {
    "scrolled": true
   },
   "outputs": [
    {
     "name": "stdout",
     "output_type": "stream",
     "text": [
      "<peierls_stress, 12.711228013154447 megapascal, []>\n"
     ]
    }
   ],
   "source": [
    "# Converting to megapascals.\n",
    "print(result['peierls_stress'].to('megapascal'))"
   ]
  },
  {
   "cell_type": "markdown",
   "metadata": {},
   "source": [
    "# Creating Custom Models and Properties"
   ]
  },
  {
   "cell_type": "markdown",
   "metadata": {},
   "source": [
    "The property network comes with many different models and properties pre-loaded and ready for use.\n",
    "\n",
    "To add additional properties to the project can be accomplished in two different forms:\n",
    "\n",
    "- Defining additional .yaml files (symbols/models) or .py files (models) in the propnet.models or propnet.symbols folders. For these changes to take effect, propnet must be re-loaded.\n",
    "\n",
    "- Defining additional Model (EquationModel, PyModel, etc.) and Symbol classes at runtime.\n",
    "\n",
    "Both approaches will be detailed below."
   ]
  },
  {
   "cell_type": "markdown",
   "metadata": {},
   "source": [
    "## Defining new model files:\n",
    "Depending on the nature of the model, it may be prudent choose a serialized yaml file or a Python module to define the new model. YAML files are used for simple models which can be represented by a single equation and generally only deal with scalar quantities. Python module models are for more complex models which involve matrices/vectors or more complex evaluation.\n",
    "\n",
    "The syntax for an equation-based model stored in a yaml file is as follows:\n",
    "\n",
    "<table style=\"width:100%\">\n",
    "  <tr>\n",
    "    <th>Field Name</th>\n",
    "    <th>Required?</th>\n",
    "    <th>Field Format</th> \n",
    "    <th>Field Description</th>\n",
    "  </tr>\n",
    "  <tr>\n",
    "    <td>name</td>\n",
    "    <td>yes</td>\n",
    "    <td>string</td> \n",
    "    <td>name of the model, must match the file name, no spaces</td>\n",
    "  </tr>\n",
    "  <tr>\n",
    "    <td>categories</td>\n",
    "    <td>yes, but may be empty</td>\n",
    "    <td>list of strings</td> \n",
    "    <td>any user-specific tags applying to the model</td>\n",
    "  </tr>\n",
    "  <tr>\n",
    "    <td>description</td>\n",
    "    <td>yes, but may be empty</td>\n",
    "    <td>string</td> \n",
    "    <td>ideally, a verbose description of the model, its assumptions, etc.</td>\n",
    "  </tr>\n",
    "  <tr>\n",
    "    <td>implemented_by</td>\n",
    "    <td>yes</td>\n",
    "    <td>list of strings</td> \n",
    "    <td>GitHub usernames of author(s) of the model. May not be empty.</td>\n",
    "  </tr>\n",
    "  <tr>\n",
    "    <td>references</td>\n",
    "    <td>no, but recommended</td>\n",
    "    <td>list of strings</td> \n",
    "    <td>url, doi, or isbn for citing the model, use \"type:data\" to specify, e.g. \"url:https://www....\"</td>\n",
    "  </tr>\n",
    "  <tr>\n",
    "    <td>equations</td>\n",
    "    <td>yes</td>\n",
    "    <td>list of strings</td> \n",
    "    <td>list of equations that create the model</td>\n",
    "  </tr>\n",
    "  <tr>\n",
    "    <td>variable_symbol_map</td>\n",
    "    <td>no, but see description</td>\n",
    "    <td>dictionary, string keys, string values</td> \n",
    "    <td>mapping from variables used in the equation to symbol names used in propnet, e.g. {\"m\": \"mass\"}. If not specified, the variable names will be assumed to be the same as the symbol names.</td>\n",
    "  </tr>\n",
    "  <tr>\n",
    "    <td>units_for_evaluation</td>\n",
    "    <td>no, but see description</td>\n",
    "    <td>dictionary, string keys, string values</td> \n",
    "    <td>mapping from variables used in the equation to units required for proper evaluation. It is required if the model is empirical or includes constants that have dimensions.</td>\n",
    "  </tr>\n",
    "  <tr>\n",
    "    <td>connections</td>\n",
    "    <td>no, but see description</td>\n",
    "    <td>list of dictionaries with keys: 'inputs', 'outputs' mapping to lists of symbol strings used in the model</td> \n",
    "    <td>contains valid input/output symbol combinations. If omitted, this will be derived automatically from the equation. For example,\n",
    "    F=m*a will produce {\"inputs\": [\"mass\", \"acceleration\"], \"outputs\": [\"force\"]} and no other combination.</td>\n",
    "  </tr>\n",
    "  <tr>\n",
    "    <td>solve_for_all_symbols</td>\n",
    "    <td>no, default false</td>\n",
    "    <td>boolean</td> \n",
    "    <td>If true, propnet will attempt to derive all possible input/output combinations from the equation. Default is false.</td>\n",
    "  </tr>\n",
    "  <tr>\n",
    "    <td>constraints</td>\n",
    "    <td>no</td>\n",
    "    <td>list of strings</td>\n",
    "    <td>(in)equality statements for input or output variables that must be true in order for the model to be evaluated successfully. e.g. \"Eg > 0\"</td>\n",
    "  </tr>\n",
    "  <tr>\n",
    "    <td>test_data</td>\n",
    "    <td>no, but recommended</td>\n",
    "    <td>list of dictionaries with keys: 'inputs', 'outputs', which have dictionaries, keyed by variables, valued by numerical or string input(s) and expected numerical or string output(s)</td>\n",
    "    <td>data used to test the model. Data may be specified as raw numbers, assumed to be the unit specified by units_for_evaluation or by the default symbol unit. Data may also be specified as strings of numbers and units. Example: [{'inputs': {'m': '3 kg', 'a': '2 m/s**2'}, 'outputs': {'F': '6 N'}}]</td>\n",
    "  </tr>\n",
    "</table>\n",
    "\n",
    "Python models are constructed in a very similar manner to the YAML file. To create a new Python model:\n",
    "\n",
    "1. Create a new py module in the models/python folder with the name of your model as the file name.\n",
    "2. In your module, define a function which takes a dictionary of inputs, keyed by input variable name, and returns a dictionary, keyed by output variable name. This is your \"plug-in\" function.\n",
    "3. Define a module-level variable `config` which holds a dictionary with the fields specified in the YAML construction above. The only exceptions are that `connections` must be explicitly included, `solve_for_all_symbols` and `equations` cannot be used, and `config` must have a field `plug_in` which is valued by a reference to your plug-in function from step 2.\n",
    "4. If your model requires Python packages not already required by propnet, be sure to add them to \"requirements.txt\" under the \"# specific models\" section.\n"
   ]
  },
  {
   "cell_type": "markdown",
   "metadata": {},
   "source": [
    "## Defining new Symbol files:\n",
    "Symbols require yaml file to be defined in the propnet/symbols folder. For numerical properties which aren't environmental conditions, place them in the \"properties\" folder. For properties which do not hold numbers (e.g. formula), place them in the \"objects\" folder.\n",
    "\n",
    "The syntax for a yaml definition is as follows:\n",
    "\n",
    "<table style=\"width:100%\">\n",
    "  <tr>\n",
    "    <th>Field Name</th>\n",
    "    <th>Required?</th>\n",
    "    <th>Field Format</th> \n",
    "    <th>Field Description</th>\n",
    "  </tr>\n",
    "  <tr>\n",
    "    <td>name</td>\n",
    "    <td>yes</td>\n",
    "    <td>string</td> \n",
    "    <td>name of the property, must match the file name</td>\n",
    "  </tr>\n",
    "  <tr>\n",
    "    <td>category</td>\n",
    "    <td>yes</td>\n",
    "    <td>must be one of ('property', 'condition', 'object')</td> \n",
    "    <td>specifies the type of data the symbol represents</td>\n",
    "  </tr>\n",
    "  <tr>\n",
    "    <td>units</td>\n",
    "    <td>depends, see decription</td>\n",
    "    <td>string</td> \n",
    "    <td>the units used to represent this symbol, must be specified for property and condition symbols, must be excluded for object symbols.</td>\n",
    "  </tr>\n",
    "  <tr>\n",
    "    <td>display_names</td>\n",
    "    <td>no, but recommended</td>\n",
    "    <td>list of strings</td> \n",
    "    <td>descriptive name(s) that represent this symbol</td>\n",
    "  </tr>\n",
    "  <tr>\n",
    "    <td>display_symbols</td>\n",
    "    <td>no, but recommended</td>\n",
    "    <td>list of strings</td> \n",
    "    <td>any short string symbols useful for representing this symbol, for example, how it would be represented in an equation</td>\n",
    "  </tr>\n",
    "  <tr>\n",
    "    <td>shape</td>\n",
    "    <td>depends, see description</td>\n",
    "    <td>number or list of numbers</td>\n",
    "    <td>expected dimesions of a numerical symbol. 1 or [1]=scalar, n or [n]=vector of length n, [m, n]=matrix of m-by-n size. required for properties and conditions, must be excluded for objects.</td>\n",
    "  </tr>\n",
    "  <tr>\n",
    "    <td>constraint</td>\n",
    "    <td>no</td>\n",
    "    <td>string</td> \n",
    "    <td>string representing a constraint equation required for the symbol, e.g. 'bulk_modulus > 0'. Only applicable to property and condition symbols.</td>\n",
    "  </tr>\n",
    "  <tr>\n",
    "    <td>object_type</td>\n",
    "    <td>no</td>\n",
    "    <td>string</td> \n",
    "    <td>string representing the Python object type expected by an object symbol. e.g. \"str\" or \"pymatgen.core.lattice.Lattice\". Only applicable to object symbols. If specified, quantities created with this symbol will be cast as this type.</td>\n",
    "  </tr>\n",
    "  <tr>\n",
    "    <td>comment</td>\n",
    "    <td>no</td>\n",
    "    <td>string</td> \n",
    "    <td>any comments pertinent to the symbol</td>\n",
    "  </tr>\n",
    "  <tr>\n",
    "    <td>default_value</td>\n",
    "    <td>no</td>\n",
    "    <td>float</td> \n",
    "    <td>default value for a quantity made from this symbol, generally used for conditions (may be deprecated)</td>\n",
    "  </tr>\n",
    "</table>"
   ]
  },
  {
   "cell_type": "markdown",
   "metadata": {},
   "source": [
    "# A Grand Example"
   ]
  },
  {
   "cell_type": "code",
   "execution_count": 17,
   "metadata": {},
   "outputs": [
    {
     "name": "stdout",
     "output_type": "stream",
     "text": [
      "WARNING: No units supplied, assuming default units from symbol.\n",
      "WARNING: No units supplied, assuming default units from symbol.\n",
      "WARNING: No units supplied, assuming default units from symbol.\n",
      "WARNING: No units supplied, assuming default units from symbol.\n",
      "WARNING: No units supplied, assuming default units from symbol.\n",
      "WARNING: No units supplied, assuming default units from symbol.\n",
      "Silicon's Graph\n",
      "Material: 0x127e4ad68\n",
      "\n",
      "\ttemperature\n",
      "\t\t<temperature, 300 kelvin, []>\n",
      "\n",
      "\tband_gap\n",
      "\t\t<band_gap, 1.12 electron_volt, []>\n",
      "\n",
      "\telectrical_conductivity\n",
      "\t\t...\n",
      "\n",
      "\trefractive_index\n",
      "\t\t<refractive_index, 3.194112 dimensionless, []>\n",
      "\t\t...\n",
      "\t\t...\n",
      "\t\t...\n",
      "\t\t...\n",
      "\n",
      "\tband_gap_gw\n",
      "\t\t...\n",
      "\n",
      "\tband_gap_pbe\n",
      "\t\t...\n",
      "\t\t...\n",
      "\n",
      "\tis_metallic\n",
      "\t\t<is_metallic, False, []>\n",
      "\n",
      "\telectronic_thermal_conductivity\n",
      "\t\t...\n",
      "\n",
      "\telectrical_resistivity\n",
      "\t\t...\n",
      "\n",
      "\n",
      "Aluminum's Graph\n",
      "Material: 0x127005a90\n",
      "\n",
      "\ttemperature\n",
      "\t\t<temperature, 300 kelvin, []>\n",
      "\n",
      "\tband_gap\n",
      "\t\t<band_gap, 0 electron_volt, []>\n",
      "\n",
      "\telectrical_conductivity\n",
      "\t\t...\n",
      "\n",
      "\trefractive_index\n",
      "\t\t<refractive_index, 4.16 dimensionless, []>\n",
      "\t\t...\n",
      "\n",
      "\tband_gap_gw\n",
      "\t\t...\n",
      "\n",
      "\tis_metallic\n",
      "\t\t<is_metallic, True, []>\n",
      "\n",
      "\telectronic_thermal_conductivity\n",
      "\t\t...\n",
      "\n",
      "\telectrical_resistivity\n",
      "\t\t...\n",
      "\n"
     ]
    }
   ],
   "source": [
    "silicon = Material()\n",
    "silicon.add_quantity(QuantityFactory.create_quantity('temperature', 300, []))\n",
    "silicon.add_quantity(QuantityFactory.create_quantity('band_gap', 1.12, []))\n",
    "silicon.add_quantity(QuantityFactory.create_quantity('electrical_conductivity', 4.34E-4, []))\n",
    "\n",
    "aluminum = Material()\n",
    "aluminum.add_quantity(QuantityFactory.create_quantity('temperature', 300, []))\n",
    "aluminum.add_quantity(QuantityFactory.create_quantity('band_gap', 0, []))\n",
    "aluminum.add_quantity(QuantityFactory.create_quantity('electrical_conductivity', 3.69E7, []))\n",
    "\n",
    "g = Graph()\n",
    "silicon = g.evaluate(silicon)\n",
    "aluminum = g.evaluate(aluminum)\n",
    "\n",
    "print(\"Silicon's Graph\")\n",
    "print(silicon)\n",
    "print()\n",
    "print(\"Aluminum's Graph\")\n",
    "print(aluminum)"
   ]
  }
 ],
 "metadata": {
  "kernelspec": {
   "display_name": "propnet_dev",
   "language": "python",
   "name": "propnet_dev"
  },
  "language_info": {
   "codemirror_mode": {
    "name": "ipython",
    "version": 3
   },
   "file_extension": ".py",
   "mimetype": "text/x-python",
   "name": "python",
   "nbconvert_exporter": "python",
   "pygments_lexer": "ipython3",
   "version": "3.6.8"
  }
 },
 "nbformat": 4,
 "nbformat_minor": 2
}
