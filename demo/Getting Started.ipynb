{
 "cells": [
  {
   "cell_type": "markdown",
   "metadata": {},
   "source": [
    "# Tutorial on using Propnet"
   ]
  },
  {
   "cell_type": "markdown",
   "metadata": {},
   "source": [
    "The following is a tutorial designed to give a base overview of the classes and constructs used in the Propnet project. For each class an example of its construction and base usage is provided."
   ]
  },
  {
   "cell_type": "markdown",
   "metadata": {},
   "source": [
    "# Defining a Property Network: Propnet"
   ]
  },
  {
   "cell_type": "markdown",
   "metadata": {},
   "source": [
    "A Graph object tells us about all the property types and models currently available for use.\n",
    "\n",
    "The mappings contained in this object define an interconnected network of materials properties. In this form, the Graph object can be used to enumerate and analyze links between differnet materials properties."
   ]
  },
  {
   "cell_type": "code",
   "execution_count": 3,
   "metadata": {},
   "outputs": [],
   "source": [
    "from propnet.core.graph import Graph"
   ]
  },
  {
   "cell_type": "code",
   "execution_count": 4,
   "metadata": {},
   "outputs": [],
   "source": [
    "g = Graph()"
   ]
  },
  {
   "cell_type": "markdown",
   "metadata": {},
   "source": [
    "You can print Propnet to see the property types and models it supports."
   ]
  },
  {
   "cell_type": "code",
   "execution_count": 5,
   "metadata": {},
   "outputs": [
    {
     "name": "stdout",
     "output_type": "stream",
     "text": [
      "Propnet Printout\n",
      "\n",
      "Properties\n",
      "\tformula\n",
      "\tdimensionality\n",
      "\tstructure_oxi\n",
      "\toxide_type\n",
      "\tis_metallic\n",
      "\tmagnetic_order\n",
      "\texternal_identifier_mp\n",
      "\tcomputed_entry\n",
      "\tstructure\n",
      "\tpotentially_ferroelectric\n",
      "\tprototype\n",
      "\tcomposition\n",
      "\tnull_symbol\n",
      "\tatomic_density\n",
      "\telastic_tensor_voigt\n",
      "\tgruneisen_parameter\n",
      "\tinterplanar_spacing\n",
      "\tsound_velocity_longitudinal\n",
      "\tgoldschmidt_tolerance_factor\n",
      "\tthermal_conductivity\n",
      "\trefractive_index\n",
      "\tionic_radius_b\n",
      "\tabsorption_coefficient\n",
      "\tp_wave_modulus\n",
      "\tcost_per_kg\n",
      "\textinction_coefficient\n",
      "\telectronic_thermal_conductivity\n",
      "\tpilling_bedworth_ratio\n",
      "\ttransmittance\n",
      "\tinteratomic_spacing\n",
      "\tband_gap_pbe\n",
      "\telectrical_resistivity\n",
      "\trelative_permittivity\n",
      "\tsnyder_acoustic_sound_velocity\n",
      "\tcost_per_mol\n",
      "\tsound_velocity_mean\n",
      "\tvolume_unit_cell\n",
      "\tyoungs_modulus\n",
      "\tdielectric_figure_of_merit_energy\n",
      "\tmass_per_atom\n",
      "\tpoisson_ratio\n",
      "\tabsorbance\n",
      "\tspecific_heat_capacity_constant_volume\n",
      "\tlame_first_parameter\n",
      "\tcompliance_tensor_voigt\n",
      "\thhi_reserve\n",
      "\tsnyder_optical_sound_velocity\n",
      "\treflectance\n",
      "\tformation_energy_per_atom\n",
      "\tstrengthening_coefficient\n",
      "\tband_gap\n",
      "\tpeierls_stress\n",
      "\tshear_modulus\n",
      "\tsound_velocity_transverse\n",
      "\telectron_effective_mass\n",
      "\tbulk_modulus\n",
      "\tyield_stress\n",
      "\tvickers_hardness\n",
      "\tmolar_heat_capacity_constant_volume\n",
      "\tband_gap_gw\n",
      "\tdielectric_tensor\n",
      "\tspecific_heat_capacity_constant_pressure\n",
      "\tmolar_mass\n",
      "\tthermal_expansion_coefficient\n",
      "\thhi_production\n",
      "\tlattice_unit_cell\n",
      "\tionic_radius_a\n",
      "\tisothermal_compressibility\n",
      "\tpugh_ratio\n",
      "\trelative_permeability\n",
      "\tvolume_per_atom\n",
      "\tpiezoelectric_tensor_converse\n",
      "\tisentropic_compressibility\n",
      "\tdensity\n",
      "\telectron_mobility\n",
      "\tloss_function\n",
      "\telectrical_conductivity\n",
      "\tenergy_per_atom\n",
      "\tionic_radius\n",
      "\tdislocation_movement_stress\n",
      "\telastic_anisotropy\n",
      "\tsnyder_total_sound_velocity\n",
      "\tenergy_above_hull\n",
      "\tdebye_temperature\n",
      "\tpiezoelectric_tensor\n",
      "\tmelting_point\n",
      "\trelative_permittivity_im\n",
      "\tnsites\n",
      "\tdielectric_figure_of_merit_current_leakage\n",
      "\twavelength\n",
      "\tresolved_shear_stress\n",
      "\ttemperature\n",
      "\tgrain_diameter\n",
      "\tschmid_factor\n",
      "\tapplied_stress\n",
      "\tthickness\n",
      "\n",
      "Models\n",
      "\tsemi_empirical_mobility\n",
      "\tvickers_hardness_chen\n",
      "\theat_capacity_conversion\n",
      "\tband_gap_refractive_index_reddy_ahammed\n",
      "\toptical_reflectance\n",
      "\tempirical_band_gaps_garcia_pbe\n",
      "\tband_gap_refractive_index_moss\n",
      "\toptical_absorbance\n",
      "\tsound_velocity_elastic_mean\n",
      "\tdielectric_figure_of_merit_energy\n",
      "\tsound_velocity_elastic_transverse\n",
      "\tloss_function_from_complex_perm\n",
      "\tsound_velocity_elastic_longitudinal\n",
      "\tel_resistivityfrom_el_conductivity\n",
      "\tinteratomic_spacing_average\n",
      "\toptical_transmittance\n",
      "\tband_gap_refractive_index_reddy_anjaneyulu\n",
      "\tpeierls_stress\n",
      "\tthermal_expansion_from_gruneisen\n",
      "\tempirical_band_gaps_garcia_gw\n",
      "\trefractive_indexfrom_rel_perm\n",
      "\tband_gap_refractive_index_ravindra\n",
      "\tpugh_ratio\n",
      "\twiedemann_franz_law\n",
      "\tempirical_band_gaps_metal_conversion\n",
      "\tcomplex_refr_from_complex_perm\n",
      "\tvickers_hardness_tian\n",
      "\tslack_equation\n",
      "\toptical_absorption_coefficient\n",
      "\tband_gap_refractive_index_herve_vandamme\n",
      "\tschmids_law\n",
      "\tempirical_band_gap_setyawan\n",
      "\tdebye_temperature\n",
      "\tbelomestnikh_gruneisen\n",
      "\tmelting_point_from_lindemann_criterion\n",
      "\tdielectric_figure_of_merit_current_leakage\n",
      "\tclarke_thermal_conductivity\n",
      "\tcompliance_from_elasticity\n",
      "\tcost\n",
      "\tdensity\n",
      "\tdimensionality_cheon\n",
      "\tdimensionality_gorai\n",
      "\tgbml\n",
      "\theat_capacity_debye\n",
      "\thhi\n",
      "\thill_bulk_modulus\n",
      "\thill_shear_modulus\n",
      "\thomogeneous_elasticity_relations\n",
      "\tis_metallic\n",
      "\tmolar_mass_from_formula\n",
      "\tperovskite_classifier\n",
      "\tpiezoelectric_tensor\n",
      "\tpymatgen_structure_properties\n",
      "\tpymatgen_structure_transformations\n",
      "\treuss_bulk_modulus\n",
      "\treuss_shear_modulus\n",
      "\tvoigt_bulk_modulus\n",
      "\tvoigt_shear_modulus\n",
      "\n"
     ]
    }
   ],
   "source": [
    "print(g)"
   ]
  },
  {
   "cell_type": "markdown",
   "metadata": {},
   "source": [
    "# Defining a Material Property"
   ]
  },
  {
   "cell_type": "markdown",
   "metadata": {},
   "source": [
    "A Symbol object is used to represent types of properties (such as Young's Modulus) or conditions (such as Temperature).\n",
    "- All Symbol objects are accessible in a global DEFAULT_SYMBOLS variable.\n",
    "- Various metadata for each SymbolType can be accessed as shown below."
   ]
  },
  {
   "cell_type": "code",
   "execution_count": 6,
   "metadata": {},
   "outputs": [
    {
     "name": "stdout",
     "output_type": "stream",
     "text": [
      "Symbol: youngs_modulus\n"
     ]
    }
   ],
   "source": [
    "from propnet.symbols import DEFAULT_SYMBOLS\n",
    "symbol_object = DEFAULT_SYMBOLS['youngs_modulus']\n",
    "print(symbol_object)"
   ]
  },
  {
   "cell_type": "markdown",
   "metadata": {},
   "source": [
    "A Quantity object is used to represent values of properties (such as Young's Modulus = 200GPa) or conditions (such as temperature = 300K).\n",
    "\n",
    "- All Quantity objects have a Symbol giving the type of property represented by the value.\n",
    "- All Quantity objects must be created at runtime by specifying a value during instantiation.\n",
    "- All Quantity objects have a list of strings called \"tags\" used to further label the property."
   ]
  },
  {
   "cell_type": "code",
   "execution_count": 7,
   "metadata": {},
   "outputs": [
    {
     "name": "stdout",
     "output_type": "stream",
     "text": [
      "<youngs_modulus, 200 gigapascal, ['mild steel']>\n"
     ]
    }
   ],
   "source": [
    "from propnet.core.quantity import Quantity\n",
    "steel_youngs_modulus = Quantity('youngs_modulus', 200, tags=['mild steel'])\n",
    "print(steel_youngs_modulus)"
   ]
  },
  {
   "cell_type": "markdown",
   "metadata": {},
   "source": [
    "# Defining a Material"
   ]
  },
  {
   "cell_type": "markdown",
   "metadata": {},
   "source": [
    "A Material object is used to represent a collection of information known about a given material.\n",
    "\n",
    "When it is first created it has no information; however, properties can be added to the material one-by-one."
   ]
  },
  {
   "cell_type": "code",
   "execution_count": 8,
   "metadata": {},
   "outputs": [
    {
     "name": "stdout",
     "output_type": "stream",
     "text": [
      "Material: 0x1220a9ba8\n",
      "\n",
      "\tyoungs_modulus\n",
      "\t\t<youngs_modulus, 200 gigapascal, None>\n",
      "\n"
     ]
    }
   ],
   "source": [
    "from propnet.core.materials import Material\n",
    "from propnet.core.quantity import Quantity\n",
    "mild_steel = Material()\n",
    "youngs_modulus = Quantity('youngs_modulus', 200, [])\n",
    "mild_steel.add_quantity(youngs_modulus)\n",
    "print(mild_steel)"
   ]
  },
  {
   "cell_type": "markdown",
   "metadata": {},
   "source": [
    "# Combining Models, Materials, and Symbols"
   ]
  },
  {
   "cell_type": "markdown",
   "metadata": {},
   "source": [
    "As illustrated, a Graph object contains information for connecting many different models and symbol types. This forms an abstract web of interconnected variables without any values specified.\n",
    "\n",
    "On the other hand, a Material object represents a grouping of values for different variables. These are represented as a collection of Quantity objects identified with the material.\n",
    "\n",
    "At runtime, a single Graph object can be used to \"evaluate\" a Material object. This procedure allows values to be plugged in to variables. Assuming the required inputs for a model all have values, the Graph object can then dynamically predict the values for the output variables of the model.\n",
    "\n",
    "In this example, we start with a refractive index and a permittivity. As a result many other properties are derived and printed below."
   ]
  },
  {
   "cell_type": "code",
   "execution_count": 4,
   "metadata": {},
   "outputs": [
    {
     "name": "stdout",
     "output_type": "stream",
     "text": [
      "Material: 0x1228d1f60\n",
      "\n",
      "\trefractive_index\n",
      "\t\t<refractive_index, 1.458 dimensionless, None>\n",
      "\n",
      "\trelative_permittivity\n",
      "\t\t<relative_permittivity, 3.9 dimensionless, None>\n",
      "\n",
      "\trelative_permeability\n",
      "\t\t...\n",
      "\n",
      "\tband_gap\n",
      "\t\t<band_gap, 21.02294283374089 electron_volt, None>\n",
      "\t\t<band_gap, 34.44429680416945 electron_volt, None>\n",
      "\t\t<band_gap, 8.44705399783503 electron_volt, None>\n",
      "\n",
      "\tdielectric_figure_of_merit_energy\n",
      "\t\t...\n",
      "\t\t...\n",
      "\t\t...\n",
      "\n",
      "\tband_gap_gw\n",
      "\t\t...\n",
      "\t\t...\n",
      "\t\t...\n",
      "\n",
      "\tband_gap_pbe\n",
      "\t\t...\n",
      "\t\t...\n",
      "\t\t...\n",
      "\t\t...\n",
      "\t\t...\n",
      "\t\t...\n",
      "\n",
      "\tdielectric_figure_of_merit_current_leakage\n",
      "\t\t...\n",
      "\t\t...\n",
      "\t\t...\n",
      "\n",
      "\tis_metallic\n",
      "\t\t<is_metallic, 0 dimensionless, None>\n",
      "\n"
     ]
    },
    {
     "name": "stderr",
     "output_type": "stream",
     "text": [
      "/Users/david/propnet_venv/lib/python3.6/site-packages/numpy/__init__.py:1: RuntimeWarning: invalid value encountered in sqrt\n",
      "  \"\"\"\n"
     ]
    }
   ],
   "source": [
    "from propnet.core.materials import Material\n",
    "from propnet.core.graph import Graph\n",
    "from propnet.core.quantity import Quantity\n",
    "\n",
    "g = Graph()\n",
    "\n",
    "silica = Material()\n",
    "refractive_index = Quantity('refractive_index', 1.458)\n",
    "relative_permittivity = Quantity('relative_permittivity', 3.9)\n",
    "\n",
    "silica.add_quantity(refractive_index)\n",
    "silica.add_quantity(relative_permittivity)\n",
    "\n",
    "silica = g.evaluate(silica)\n",
    "print(silica)"
   ]
  },
  {
   "cell_type": "markdown",
   "metadata": {},
   "source": [
    "# Working with Models"
   ]
  },
  {
   "cell_type": "markdown",
   "metadata": {},
   "source": [
    "A Model object is used to represent a relationship between different materials property variables. This object can be directly manipulated and stores relavent metadata available as direct attributes.\n",
    "\n",
    "- All Models are imported as classes at runtime.\n",
    "- A Model class must be instantiated to be used at runtime."
   ]
  },
  {
   "cell_type": "code",
   "execution_count": 1,
   "metadata": {},
   "outputs": [
    {
     "name": "stdout",
     "output_type": "stream",
     "text": [
      "Propnet is not intended for public use at this time. Functionality might change.\n",
      "\n",
      "The refractive index gives the factor by which the speed of light is reduced in\n",
      "a medium.  Likewise, modeling the induced magnetic and electric dipoles as linear\n",
      "within a material, a relative spatial electrical permittivity and relative spatial\n",
      "magnetic permeability arise from consideration of the total electrical and magnetic\n",
      "fields.\n",
      "\n",
      "From the Maxwell Relations, the index of refraction is equal to the geometric mean\n",
      "of the relative permittivity and the relative permeability.\n",
      "\n",
      "refractive_indexfrom_rel_perm\n",
      "\n",
      "['n = sqrt(Ur*Er)']\n"
     ]
    }
   ],
   "source": [
    "from propnet.core.graph import Graph\n",
    "g = Graph()\n",
    "model = g.get_models()['refractive_indexfrom_rel_perm']\n",
    "print(model.description)\n",
    "print(model.name)\n",
    "print()\n",
    "print(model.equations)"
   ]
  },
  {
   "cell_type": "markdown",
   "metadata": {},
   "source": [
    "## Model Class Structure - Basic Overview"
   ]
  },
  {
   "cell_type": "markdown",
   "metadata": {},
   "source": [
    "The Model class is a generally-defined interface, and subclasses may alter many aspects of its underlying functionality.\n",
    "\n",
    "\n",
    "Most Model objects will contain equations, symbols, and connections attributes. These define the core functionality of the model:"
   ]
  },
  {
   "cell_type": "markdown",
   "metadata": {},
   "source": [
    "The equations attribute will contain a list of sympy-parsable expressions. These expressions imply trivial equations such that the expression is equal to zero. \n",
    "(ie. x - 4 for corresponding equation x = 4)"
   ]
  },
  {
   "cell_type": "code",
   "execution_count": 2,
   "metadata": {},
   "outputs": [
    {
     "name": "stdout",
     "output_type": "stream",
     "text": [
      "['n = sqrt(Ur*Er)']\n"
     ]
    }
   ],
   "source": [
    "print(model.equations)"
   ]
  },
  {
   "cell_type": "markdown",
   "metadata": {},
   "source": [
    "The symbol_mapping attribute maps the symbols (ie. n) used in the equations to Symbol objects (ie. refractive index) used in the Property Network."
   ]
  },
  {
   "cell_type": "code",
   "execution_count": 3,
   "metadata": {},
   "outputs": [
    {
     "name": "stdout",
     "output_type": "stream",
     "text": [
      "{'Ur': 'relative_permittivity', 'Er': 'relative_permeability', 'n': 'refractive_index'}\n"
     ]
    }
   ],
   "source": [
    "print(model.symbol_property_map)"
   ]
  },
  {
   "cell_type": "markdown",
   "metadata": {},
   "source": [
    "The connections attribute shows what outputs can be generated from a set of inputs, following a standard format."
   ]
  },
  {
   "cell_type": "code",
   "execution_count": 4,
   "metadata": {},
   "outputs": [
    {
     "name": "stdout",
     "output_type": "stream",
     "text": [
      "[{'inputs': ['n', 'Ur'], 'outputs': ['Er'], '_lambdas': {'Er': <function <lambda> at 0x1213b0840>}}, {'inputs': ['Er', 'n'], 'outputs': ['Ur'], '_lambdas': {'Ur': <function <lambda> at 0x12142f620>}}, {'inputs': ['Er', 'Ur'], 'outputs': ['n'], '_lambdas': {'n': <function <lambda> at 0x1214068c8>}}]\n"
     ]
    }
   ],
   "source": [
    "print(model.connections)"
   ]
  },
  {
   "cell_type": "markdown",
   "metadata": {},
   "source": [
    "A Model can be evaluated to generate outputs if given a complete set of inputs.\n",
    "\n",
    "Given the relative permeability and permittivity, the Refractive Index From Relative Permeability model can correctly calculate the index of refraction.\n",
    "\n",
    "This is given by 'n' in the dictionary below."
   ]
  },
  {
   "cell_type": "code",
   "execution_count": 5,
   "metadata": {
    "scrolled": false
   },
   "outputs": [
    {
     "data": {
      "text/plain": [
       "{'refractive_index': <refractive_index, 1.4512063946937388 dimensionless, None>,\n",
       " 'successful': True}"
      ]
     },
     "execution_count": 5,
     "metadata": {},
     "output_type": "execute_result"
    }
   ],
   "source": [
    "model.evaluate({'Ur': 0.54, 'Er': 3.9})"
   ]
  },
  {
   "cell_type": "markdown",
   "metadata": {},
   "source": [
    "# Loading Materials Data"
   ]
  },
  {
   "cell_type": "markdown",
   "metadata": {},
   "source": [
    "Material properties can be loaded in from the Materials Project so they don't need to be defined and added manually.\n",
    "\n",
    "Accessing Materials Project data requires an API key. You must input your own API key below to run the sample. You can locate your api key by logging into materialsproject.org and visiting the dashboard."
   ]
  },
  {
   "cell_type": "code",
   "execution_count": 7,
   "metadata": {
    "scrolled": true
   },
   "outputs": [
    {
     "name": "stdout",
     "output_type": "stream",
     "text": [
      "{'material_id': 'mp-546794', 'band_gap.search_gap.band_gap': 5.703399999999999, 'computed_entry': ComputedEntry mp-546794 - Si16 O32\n",
      "Energy = -379.9357\n",
      "Correction = -22.4733\n",
      "Parameters:\n",
      "run_type = GGA\n",
      "is_hubbard = False\n",
      "pseudo_potential = {'functional': 'PBE', 'labels': ['Si', 'O'], 'pot_type': 'paw'}\n",
      "hubbards = {}\n",
      "potcar_symbols = ['PBE Si', 'PBE O']\n",
      "oxide_type = oxide\n",
      "Data:\n",
      "oxide_type = oxide, 'diel.n': 1.4782042033043565, 'diel.poly_total': 3.8824606666666672, 'diel.e_total': [[3.827947000000001, 0.0, 0.0], [0.0, 3.827947000000001, 1.9736472213591792e-17], [0.0, 1.9736472213591792e-17, 3.9914880000000004]], 'pretty_formula': 'SiO2', 'e_above_hull': 0, 'elasticity.elastic_tensor': [[91.0, -38.0, 17.0, 0.0, 0.0, 0.0], [-38.0, 91.0, 17.0, 0.0, 0.0, 0.0], [17.0, 17.0, 86.0, 0.0, 0.0, 0.0], [0.0, 0.0, 0.0, 32.0, 0.0, 0.0], [0.0, 0.0, 0.0, 0.0, 32.0, 0.0], [0.0, 0.0, 0.0, 0.0, 0.0, 30.0]], 'formation_energy_per_atom': -3.2847129075, 'magnetic_type': 'NM', 'oxide_type': 'oxide', 'piezo.piezoelectric_tensor': [[0.0, 0.0, 0.0, 0.0, 0.0, 0.0], [0.0, 0.0, 0.0, 0.0, 0.0, 0.0], [0.0, 0.0, 0.0, 0.0, 0.0, 0.0]], 'structure': Structure Summary\n",
      "Lattice\n",
      "    abc : 10.11250662085176 10.112693577412063 10.271724993769498\n",
      " angles : 119.4896927912101 119.48859740170064 89.99990994711087\n",
      " volume : 754.094746816133\n",
      "      A : 8.77880197 6.63e-06 -5.01950457\n",
      "      B : -2.87009282 8.29652941 -5.01963528\n",
      "      C : 0.04850361 0.06794197 10.27138577\n",
      "PeriodicSite: Si (2.9786, 4.1822, 0.1161) [0.5000, 0.5000, 0.5000]\n",
      "PeriodicSite: Si (2.9543, 4.1483, -5.0196) [0.5000, 0.5000, -0.0000]\n",
      "PeriodicSite: Si (1.5435, 8.3305, -2.3937) [0.5000, 1.0000, 0.5000]\n",
      "PeriodicSite: Si (1.5193, 8.2965, -7.5294) [0.5000, 1.0000, -0.0000]\n",
      "PeriodicSite: Si (7.3680, 4.1822, -2.3937) [1.0000, 0.5000, 0.5000]\n",
      "PeriodicSite: Si (7.3437, 4.1483, -7.5293) [1.0000, 0.5000, -0.0000]\n",
      "PeriodicSite: Si (5.9329, 8.3305, -4.9035) [1.0000, 1.0000, 0.5000]\n",
      "PeriodicSite: Si (5.9087, 8.2965, -10.0392) [1.0000, 1.0000, -0.0000]\n",
      "PeriodicSite: Si (0.0332, 3.1282, 0.0581) [0.1250, 0.3750, 0.2500]\n",
      "PeriodicSite: Si (0.0575, 3.1621, 5.1938) [0.1250, 0.3750, 0.7500]\n",
      "PeriodicSite: Si (-1.4018, 7.2764, -2.4517) [0.1250, 0.8750, 0.2500]\n",
      "PeriodicSite: Si (-1.3776, 7.3104, 2.6840) [0.1250, 0.8750, 0.7500]\n",
      "PeriodicSite: Si (4.4226, 3.1282, -2.4517) [0.6250, 0.3750, 0.2500]\n",
      "PeriodicSite: Si (4.4469, 3.1621, 2.6840) [0.6250, 0.3750, 0.7500]\n",
      "PeriodicSite: Si (2.9876, 7.2764, -4.9615) [0.6250, 0.8750, 0.2500]\n",
      "PeriodicSite: Si (3.0118, 7.3104, 0.1742) [0.6250, 0.8750, 0.7500]\n",
      "PeriodicSite: O (-1.0871, 3.6382, -1.0051) [0.0185, 0.4375, 0.1250]\n",
      "PeriodicSite: O (-1.0628, 3.6722, 4.1306) [0.0185, 0.4375, 0.6250]\n",
      "PeriodicSite: O (-2.5221, 7.7865, -3.5149) [0.0185, 0.9375, 0.1250]\n",
      "PeriodicSite: O (-2.4979, 7.8205, 1.6208) [0.0185, 0.9375, 0.6250]\n",
      "PeriodicSite: O (3.3023, 3.6382, -3.5149) [0.5185, 0.4375, 0.1250]\n",
      "PeriodicSite: O (3.3266, 3.6722, 1.6208) [0.5185, 0.4375, 0.6250]\n",
      "PeriodicSite: O (1.8673, 7.7865, -6.0247) [0.5185, 0.9375, 0.1250]\n",
      "PeriodicSite: O (1.8915, 7.8205, -0.8890) [0.5185, 0.9375, 0.6250]\n",
      "PeriodicSite: O (-0.5626, 3.2903, 1.5627) [0.0625, 0.3935, 0.3750]\n",
      "PeriodicSite: O (-0.5383, 3.3243, 6.6984) [0.0625, 0.3935, 0.8750]\n",
      "PeriodicSite: O (-1.9976, 7.4385, -0.9471) [0.0625, 0.8935, 0.3750]\n",
      "PeriodicSite: O (-1.9734, 7.4725, 4.1886) [0.0625, 0.8935, 0.8750]\n",
      "PeriodicSite: O (3.8268, 3.2903, -0.9470) [0.5625, 0.3935, 0.3750]\n",
      "PeriodicSite: O (3.8511, 3.3243, 4.1887) [0.5625, 0.3935, 0.8750]\n",
      "PeriodicSite: O (2.3918, 7.4386, -3.4568) [0.5625, 0.8935, 0.3750]\n",
      "PeriodicSite: O (2.4160, 7.4725, 1.6789) [0.5625, 0.8935, 0.8750]\n",
      "PeriodicSite: O (0.4027, 1.5641, -0.1918) [0.1065, 0.1875, 0.1250]\n",
      "PeriodicSite: O (0.4270, 1.5981, 4.9439) [0.1065, 0.1875, 0.6250]\n",
      "PeriodicSite: O (-1.0323, 5.7124, -2.7016) [0.1065, 0.6875, 0.1250]\n",
      "PeriodicSite: O (-1.0081, 5.7463, 2.4341) [0.1065, 0.6875, 0.6250]\n",
      "PeriodicSite: O (4.7921, 1.5641, -2.7015) [0.6065, 0.1875, 0.1250]\n",
      "PeriodicSite: O (4.8164, 1.5981, 2.4342) [0.6065, 0.1875, 0.6250]\n",
      "PeriodicSite: O (3.3571, 5.7124, -5.2113) [0.6065, 0.6875, 0.1250]\n",
      "PeriodicSite: O (3.3813, 5.7463, -0.0756) [0.6065, 0.6875, 0.6250]\n",
      "PeriodicSite: O (1.3797, 4.0202, -0.1337) [0.3125, 0.4815, 0.3750]\n",
      "PeriodicSite: O (1.4039, 4.0541, 5.0020) [0.3125, 0.4815, 0.8750]\n",
      "PeriodicSite: O (-0.0554, 8.1684, -2.6435) [0.3125, 0.9815, 0.3750]\n",
      "PeriodicSite: O (-0.0311, 8.2024, 2.4922) [0.3125, 0.9815, 0.8750]\n",
      "PeriodicSite: O (5.7691, 4.0202, -2.6435) [0.8125, 0.4815, 0.3750]\n",
      "PeriodicSite: O (5.7933, 4.0541, 2.4922) [0.8125, 0.4815, 0.8750]\n",
      "PeriodicSite: O (4.3340, 8.1684, -5.1533) [0.8125, 0.9815, 0.3750]\n",
      "PeriodicSite: O (4.3583, 8.2024, -0.0176) [0.8125, 0.9815, 0.8750]}\n"
     ]
    }
   ],
   "source": [
    "from propnet.ext.matproj import *\n",
    "my_api_key = None\n",
    "mpr = MPRester(my_api_key)\n",
    "silica = mpr.get_properties_for_mpid('mp-546794')\n",
    "print(silica)"
   ]
  },
  {
   "cell_type": "markdown",
   "metadata": {},
   "source": [
    "# Working with Units"
   ]
  },
  {
   "cell_type": "markdown",
   "metadata": {},
   "source": [
    "## Symbol Objects\n",
    "\n",
    "No units need to be specified when defining a Quantity object or plugging values into Models. In the case that no units are supplied, default units are inferred based on those provided in the corresponding Symbol object.\n",
    "\n",
    "For instance, youngs_modulus is a Symbol with the default units of gigapascal. \n",
    "In the example above:\n",
    "\n",
    "           youngs_modulus = Symbol('youngs_modulus', 200, [])\n",
    "           \n",
    "youngs_modulus automatically has the value 200 gigapascals despite no units being provided.\n",
    "\n",
    "It is possible to provide your own units by working with the <b>unit registry</b> (ureg).<br></br>\n",
    "The examples below demonstrate this capability using the method: \n",
    "            \n",
    "            ureg.Quantity(value, unit)\n",
    "            \n",
    "The property network will automatically convert the units you supply into canonical units behind the scenes for use in models that use the property."
   ]
  },
  {
   "cell_type": "code",
   "execution_count": 5,
   "metadata": {},
   "outputs": [
    {
     "name": "stdout",
     "output_type": "stream",
     "text": [
      "Material: 0x1214e1dd8\n",
      "\n",
      "\tyield_stress\n",
      "\t\t...\n",
      "\n"
     ]
    }
   ],
   "source": [
    "from propnet import ureg\n",
    "from propnet.core.graph import Graph\n",
    "from propnet.core.materials import Material\n",
    "from propnet.core.quantity import Quantity\n",
    "\n",
    "g = Graph()\n",
    "\n",
    "mild_steel = Material()\n",
    "yield_strength = Quantity('yield_stress', ureg.Quantity(53700, 'psi'), [])\n",
    "mild_steel.add_quantity(yield_strength)\n",
    "print(mild_steel)"
   ]
  },
  {
   "cell_type": "markdown",
   "metadata": {},
   "source": [
    "## Models\n",
    "No units need to be specified when plugging values into a Model. In the case that no units are supplied, default units are inferred based on those provided in the corresponding SymbolType objects.\n",
    "\n",
    "            model.evaluate(dict)\n",
    "            \n",
    "The above method can be used to plug in raw python floats, indicating that default units are implied. \n",
    "\n",
    "The above method can also be used with custom units supplied to one or more of the values in the dictionary. \n",
    "\n",
    "In the example below we use the property network to calculate the Peierls-Nabarro Stress for a disloaction on the (111) plane in Aluminum (FCC) using custom units of psi for shear modulus."
   ]
  },
  {
   "cell_type": "code",
   "execution_count": 1,
   "metadata": {
    "scrolled": true
   },
   "outputs": [
    {
     "name": "stdout",
     "output_type": "stream",
     "text": [
      "Propnet is not intended for public use at this time. Functionality might change.\n",
      "\n",
      "{'peierls_stress': <peierls_stress, 1843.6077548007825 gigapascal, None>, 'successful': True}\n"
     ]
    }
   ],
   "source": [
    "from propnet import ureg\n",
    "from propnet.core.graph import Graph\n",
    "from propnet.core.quantity import Quantity\n",
    "\n",
    "g = Graph()\n",
    "model = g.get_models()['peierls_stress']\n",
    "\n",
    "G = ureg.Quantity(3.9*10**6, 'psi')\n",
    "a = 4.046 / 3**(1/2)  # Angstroms automatically assumed by the model.\n",
    "b = 4.046 / 2**(1/2)  # Angstroms automatically assumed by the model.\n",
    "nu = 0.33\n",
    "\n",
    "tau = model.evaluate({'G': G.magnitude, 'a': a, 'b': b, 'nu': nu})\n",
    "print(tau)"
   ]
  },
  {
   "cell_type": "markdown",
   "metadata": {},
   "source": [
    "## Converting Units\n",
    "Given you have an output with units, it is straightforward to convert between units using Pint."
   ]
  },
  {
   "cell_type": "code",
   "execution_count": 2,
   "metadata": {
    "scrolled": true
   },
   "outputs": [
    {
     "name": "stdout",
     "output_type": "stream",
     "text": [
      "<peierls_stress, 1843607.7548007825 megapascal, None>\n"
     ]
    }
   ],
   "source": [
    "# Converting to megapascals.\n",
    "print(tau['peierls_stress'].to('megapascal'))"
   ]
  },
  {
   "cell_type": "markdown",
   "metadata": {},
   "source": [
    "# Creating Custom Models and Properties"
   ]
  },
  {
   "cell_type": "markdown",
   "metadata": {},
   "source": [
    "The property network comes with many different models and properties pre-loaded and ready for use.\n",
    "\n",
    "To add additional properties to the project can be accomplished in two different forms:\n",
    "\n",
    "- Defining additional .yaml and .py files in the propnet.models and propnet.symbols folders respectively. For these changes to take effect, the property network must be re-loaded.\n",
    "\n",
    "- Defining additional Model and SymbolType classes at runtime.\n",
    "\n",
    "Both approaches will be detailed below."
   ]
  },
  {
   "cell_type": "markdown",
   "metadata": {},
   "source": [
    "## Defining new model files:\n",
    "Models require a model_name.yaml and a model_name.py file to be defined in the propnet/models folder.\n",
    "\n",
    "The syntax for a model.yaml definition is as follows:\n",
    "\n",
    "<table style=\"width:100%\">\n",
    "  <tr>\n",
    "    <th>Field Name</th>\n",
    "    <th>Field Format</th> \n",
    "    <th>Field Description</th>\n",
    "  </tr>\n",
    "  <tr>\n",
    "    <td>title</td>\n",
    "    <td>string</td> \n",
    "    <td>title of the model</td>\n",
    "  </tr>\n",
    "  <tr>\n",
    "    <td>tags</td>\n",
    "    <td>list of strings</td> \n",
    "    <td>any user-specific tags applying to the model</td>\n",
    "  </tr>\n",
    "  <tr>\n",
    "    <td>references</td>\n",
    "    <td>list of strings</td> \n",
    "    <td>any urls for citing the model</td>\n",
    "  </tr>\n",
    "  <tr>\n",
    "    <td>symbol_mapping</td>\n",
    "    <td>dictionary, string keys, string values</td> \n",
    "    <td>mapping from symbols used in the model to SymbolType names used in the property network</td>\n",
    "  </tr>\n",
    "  <tr>\n",
    "    <td>connections</td>\n",
    "    <td>list of dictionaries with keys: 'inputs', 'outputs' mapping to lists of symbol strings used in the model</td> \n",
    "    <td>datastrucutre used to determine the set of all outputs that can be generated from a set of inputs</td>\n",
    "  </tr>\n",
    "  <tr>\n",
    "    <td>equations</td>\n",
    "    <td>list of strings</td> \n",
    "    <td>list of equations that create the model, defined as the value of the expression equals zero</td>\n",
    "  </tr>\n",
    "</table>\n",
    "\n",
    "By default the python file can be a simple class declaration:\n",
    "\n",
    "            class model_name(AbstractModel):\n",
    "                pass\n",
    "                \n",
    "Methods of the AbstractModel class can be overridden to allow for custom model evaluation() or constraint handling (see below)."
   ]
  },
  {
   "cell_type": "markdown",
   "metadata": {},
   "source": [
    "## Defining new Symbol files:\n",
    "Symbols require a symbol.yaml file to be defined in the propnet/symbols folder.\n",
    "The syntax for a symbol_type.yaml definition is as follows:\n",
    "<table style=\"width:100%\">\n",
    "  <tr>\n",
    "    <th>Field Name</th>\n",
    "    <th>Field Format</th> \n",
    "    <th>Field Description</th>\n",
    "  </tr>\n",
    "  <tr>\n",
    "    <td>name</td>\n",
    "    <td>string</td> \n",
    "    <td>name of the property, must match the file name</td>\n",
    "  </tr>\n",
    "  <tr>\n",
    "    <td>units</td>\n",
    "    <td>nested list: [1.0, [[unit name string, unit_power], ...]</td> \n",
    "    <td>the units used to represent this SymbolType, adjacent entries in the list indicate multiplication.</td>\n",
    "  </tr>\n",
    "  <tr>\n",
    "    <td>display_names</td>\n",
    "    <td>list of strings</td> \n",
    "    <td>any strings useful for representing this SymbolType</td>\n",
    "  </tr>\n",
    "  <tr>\n",
    "    <td>display_symbols</td>\n",
    "    <td>list of strings</td> \n",
    "    <td>any short string symbols useful for representing this SymbolType</td>\n",
    "  </tr>\n",
    "  <tr>\n",
    "    <td>dimension</td>\n",
    "    <td>list of numbers</td> \n",
    "    <td>datastructure to give the length of each dimension in a higher order tensor representation of the property, 1 for a scalar value.</td>\n",
    "  </tr>\n",
    "  <tr>\n",
    "    <td>comment</td>\n",
    "    <td>string</td> \n",
    "    <td>any comments pertinent to the SymbolType</td>\n",
    "  </tr>\n",
    "  <tr>\n",
    "    <td>category</td>\n",
    "    <td>string</td> \n",
    "    <td>whether this is a property, object, or condition</td>\n",
    "  </tr>\n",
    "</table>"
   ]
  },
  {
   "cell_type": "markdown",
   "metadata": {},
   "source": [
    "# A Grand Example"
   ]
  },
  {
   "cell_type": "code",
   "execution_count": 6,
   "metadata": {},
   "outputs": [
    {
     "name": "stdout",
     "output_type": "stream",
     "text": [
      "Silicon's Graph\n",
      "Material: 0x122bafef0\n",
      "\n",
      "\ttemperature\n",
      "\t\t<temperature, 300 kelvin, None>\n",
      "\n",
      "\tband_gap\n",
      "\t\t<band_gap, 1.12 electron_volt, None>\n",
      "\n",
      "\telectrical_conductivity\n",
      "\t\t...\n",
      "\n",
      "\tband_gap_pbe\n",
      "\t\t...\n",
      "\t\t...\n",
      "\n",
      "\trefractive_index\n",
      "\t\t...\n",
      "\t\t...\n",
      "\t\t...\n",
      "\t\t...\n",
      "\t\t...\n",
      "\n",
      "\tband_gap_gw\n",
      "\t\t...\n",
      "\n",
      "\telectrical_resistivity\n",
      "\t\t...\n",
      "\n",
      "\tis_metallic\n",
      "\t\t<is_metallic, 0 dimensionless, None>\n",
      "\n",
      "\telectronic_thermal_conductivity\n",
      "\t\t...\n",
      "\n",
      "\n",
      "Aluminum's Graph\n",
      "Material: 0x122bafcc0\n",
      "\n",
      "\ttemperature\n",
      "\t\t<temperature, 300 kelvin, None>\n",
      "\n",
      "\tband_gap\n",
      "\t\t<band_gap, 0 electron_volt, None>\n",
      "\n",
      "\telectrical_conductivity\n",
      "\t\t...\n",
      "\n",
      "\trefractive_index\n",
      "\t\t...\n",
      "\t\t<refractive_index, 4.16 dimensionless, None>\n",
      "\n",
      "\tband_gap_gw\n",
      "\t\t...\n",
      "\n",
      "\telectrical_resistivity\n",
      "\t\t...\n",
      "\n",
      "\tis_metallic\n",
      "\t\t<is_metallic, 1 dimensionless, None>\n",
      "\n",
      "\telectronic_thermal_conductivity\n",
      "\t\t...\n",
      "\n"
     ]
    }
   ],
   "source": [
    "silicon = Material()\n",
    "silicon.add_quantity(Quantity('temperature', 300, []))\n",
    "silicon.add_quantity(Quantity('band_gap', 1.12, []))\n",
    "silicon.add_quantity(Quantity('electrical_conductivity', 4.34E-4, []))\n",
    "\n",
    "aluminum = Material()\n",
    "aluminum.add_quantity(Quantity('temperature', 300, []))\n",
    "aluminum.add_quantity(Quantity('band_gap', 0, []))\n",
    "aluminum.add_quantity(Quantity('electrical_conductivity', 3.69E7, []))\n",
    "\n",
    "g = Graph()\n",
    "silicon = g.evaluate(silicon)\n",
    "aluminum = g.evaluate(aluminum)\n",
    "\n",
    "print(\"Silicon's Graph\")\n",
    "print(silicon)\n",
    "print()\n",
    "print(\"Aluminum's Graph\")\n",
    "print(aluminum)"
   ]
  }
 ],
 "metadata": {
  "kernelspec": {
   "display_name": "Python 3",
   "language": "python",
   "name": "python3"
  },
  "language_info": {
   "codemirror_mode": {
    "name": "ipython",
    "version": 3
   },
   "file_extension": ".py",
   "mimetype": "text/x-python",
   "name": "python",
   "nbconvert_exporter": "python",
   "pygments_lexer": "ipython3",
   "version": "3.6.3"
  }
 },
 "nbformat": 4,
 "nbformat_minor": 2
}
